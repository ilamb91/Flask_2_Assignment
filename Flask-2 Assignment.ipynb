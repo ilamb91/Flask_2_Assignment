{
 "cells": [
  {
   "cell_type": "markdown",
   "id": "175165b3-fc5e-48c9-a043-383b39802b06",
   "metadata": {},
   "source": [
    "Q1. Explain GET and POST methods."
   ]
  },
  {
   "cell_type": "markdown",
   "id": "851ec9b1-8b11-4d3e-8000-eb921f140f14",
   "metadata": {},
   "source": [
    "# GET Method\n",
    "Get method is mainly used at the client (Browser) side to send a request to a specified server to get certain data or resources. Using this method the server should only let us receive the data and not change its state. Hence it is only used to view something and not to change it. Get method is one of the most used HTTP method. The request parameter of the get method is appended to the URL. Get request is better for the data which does not need to be secure (It means the data which does not contain images or word documents).\n",
    "\n",
    "# POST Method\n",
    "Post method is mainly used at the client (Browser) side to send data to a Specified server in order to create or rewrite a particular resource/data. This data sent to the server is stored in the request body of the HTTP request. Post method eventually leads to the creation of a new resource or updating an existing one. Due to this dynamic use, it is one of the most used HTTP methods. It is not one of the most secure methods because the data that is been sent is included in the body of the request and not in the URL. Post request is better for the data which needs to be secure (It means the data which contains images or word documents)."
   ]
  },
  {
   "cell_type": "markdown",
   "id": "5b0db7ef-2339-43f7-b58f-3f1319c6a3b5",
   "metadata": {},
   "source": [
    "Q2. Why is request used in Flask?"
   ]
  },
  {
   "cell_type": "markdown",
   "id": "42d9ef7f-7c80-49a3-8a29-565fca24af75",
   "metadata": {},
   "source": [
    "A2. In a Flask App, we have our own Webpage (Client) and a Server. The Server should process the data.  The Request, in Flask, is an object that contains all the data sent from the Client to Server. This data can be recovered using the GET/POST Methods. POST is used when your application expects user input to be received by command or an HTTP request, while GET gets all the information before it even has a chance for submission. Using both methods at once gives perfect freedom but still requires complex UI patterns like AJAX calls etc, with most common applications being frameworks where multiple forms are necessary such as Slack Webhooks, MailgunMailserver, and eCommerce Commerce Framework. With Flask-Request class instead, we don’t have any need anymore since this API allows us flexible handling of many other situations."
   ]
  },
  {
   "cell_type": "markdown",
   "id": "cd3e4365-c496-4ab6-bcc8-c79f9447ed5b",
   "metadata": {},
   "source": [
    "Q3. Why is redirect() used in Flask?"
   ]
  },
  {
   "cell_type": "markdown",
   "id": "7a9304e1-f3ec-44f6-969e-6c48b9446997",
   "metadata": {},
   "source": [
    "A redirect is used in the Flask class to send the user to a particular URL with the status code. conversely, this status code additionally identifies the issue. When we access a website, our browser sends a request to the server, and the server replies with what is known as the HTTP status code, which is a three-digit number, The different reasons for errors are:\n",
    "\n",
    "- Unauthorized access or poor request.\n",
    "- Unsupported media file types.\n",
    "- Overload of the backend server.\n",
    "- Internal hardware/connection error."
   ]
  },
  {
   "cell_type": "markdown",
   "id": "5296ec24-d277-4f5d-bbcd-216f5aa6e722",
   "metadata": {},
   "source": [
    "Q4. What are templates in Flask? Why is the render_template() function used?"
   ]
  },
  {
   "cell_type": "markdown",
   "id": "f510e0a8-5c10-4e94-848b-7cdb36e14df3",
   "metadata": {},
   "source": [
    "A4. Templates are files that contain static data as well as placeholders for dynamic data. A template is rendered with specific data to produce a final document. Flask uses the Jinja template library to render templates. In your application, you will use templates to render HTML which will display in the user's browser\n",
    "- A template is rendered with specific data to produce a final document. Flask uses the Jinja template library to render templates. In your application, you will use templates to render HTML which will display in the user's browser. In Flask, Jinja is configured to autoescape any data that is rendered in HTML templates."
   ]
  },
  {
   "cell_type": "markdown",
   "id": "b5f8aa6e-2f37-41d8-b8e8-c53b6da36312",
   "metadata": {},
   "source": [
    "Q5. Create a simple API. Use Postman to test it. Attach the screenshot of the output in the Jupyter Notebook."
   ]
  },
  {
   "cell_type": "markdown",
   "id": "371d38a3-2c72-4fb0-8365-fe35be84dcff",
   "metadata": {},
   "source": [
    "A5. I have tried same thing in post man. But I cant able to exxecute in postman."
   ]
  }
 ],
 "metadata": {
  "kernelspec": {
   "display_name": "Python 3 (ipykernel)",
   "language": "python",
   "name": "python3"
  },
  "language_info": {
   "codemirror_mode": {
    "name": "ipython",
    "version": 3
   },
   "file_extension": ".py",
   "mimetype": "text/x-python",
   "name": "python",
   "nbconvert_exporter": "python",
   "pygments_lexer": "ipython3",
   "version": "3.10.8"
  }
 },
 "nbformat": 4,
 "nbformat_minor": 5
}
